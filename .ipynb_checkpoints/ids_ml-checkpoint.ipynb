{
 "cells": [
  {
   "cell_type": "code",
   "execution_count": 6,
   "id": "6c99b9be-b1a9-420d-853b-346764e75d06",
   "metadata": {},
   "outputs": [],
   "source": [
    "# IMPORTING LIBRARIES\n",
    "import matplotlib\n",
    "import matplotlib.pyplot as plt\n",
    "import numpy as np \n",
    "import pandas as pd\n",
    "import seaborn as sb\n",
    "import klib as kl\n",
    "import sklearn\n",
    "import imblearn"
   ]
  },
  {
   "cell_type": "code",
   "execution_count": 7,
   "id": "cc4923e6-7809-4938-ae98-59e89405fd06",
   "metadata": {},
   "outputs": [],
   "source": [
    "# CONFIGURING SETTINGS\n",
    "pd.set_option('display.max_columns', None)\n",
    "np.set_printoptions(precision=3)\n",
    "sb.set(style='darkgrid')\n",
    "plt.rcParams['axes.labelsize'] = 14\n",
    "plt.rcParams['xtick.labelsize'] = 12\n",
    "plt.rcParams['ytick.labelsize'] = 12"
   ]
  },
  {
   "cell_type": "code",
   "execution_count": null,
   "id": "f3cc8f46-3835-4ea2-bb29-82117004844e",
   "metadata": {},
   "outputs": [],
   "source": [
    "# LOADING DATASETS\n",
    "\n",
    "datasets = ['datasets/Monday-WorkingHours.pcap_ISCX.csv','datasets/Tuesday-WorkingHours.pcap_ISCX.csv',\n",
    "            'datasets/Wednesday-WorkingHours.pcap_ISCX.csv','datasets/Thursday-WorkingHours-Morning-WebAttacks.pcap_ISCX.csv',\n",
    "            'datasets/Thursday-WorkingHours-Afternoon-Infiltration.pcap_ISCX.csv','datasets/Friday-WorkingHours-Morning.pcap_ISCX.csv',\n",
    "            'datasets/Friday-WorkingHours-Afternoon-PortScan.pcap_ISCX.csv','datasets/Friday-WorkingHours-Afternoon-DDos.pcap_ISCX.csv']\n",
    "\n",
    "df1 = pd.DataFrame(pd.read_csv(datasets[0]))\n",
    "df2 = pd.DataFrame(pd.read_csv(datasets[1]))\n",
    "df3 = pd.DataFrame(pd.read_csv(datasets[2]))\n",
    "df4 = pd.DataFrame(pd.read_csv(datasets[3]))\n",
    "df5 = pd.DataFrame(pd.read_csv(datasets[4]))\n",
    "df6 = pd.DataFrame(pd.read_csv(datasets[5]))\n",
    "df7 = pd.DataFrame(pd.read_csv(datasets[6]))\n",
    "df8 = pd.DataFrame(pd.read_csv(datasets[7]))\n",
    "\n",
    "merge_df1 = pd.merge(df1, df2, how='outer')\n",
    "merge_df2 = pd.merge(df3, df4, how='outer')\n",
    "merge_df3 = pd.merge(df5, df6, how='outer')\n",
    "merge_df4 = pd.merge(df7, df8, how='outer')\n",
    "\n",
    "main_df1 = pd.merge(merge_df1, merge_df2, how='outer')\n",
    "main_df2 = pd.merge(merge_df3, merge_df4, how='outer')\n",
    "\n",
    "full_df = pd.merge(main_df1, main_df2, how='outer')\n",
    "\n",
    "display(full_df.shape)"
   ]
  },
  {
   "cell_type": "code",
   "execution_count": null,
   "id": "dfc3f997-0124-42e1-879e-a1795790e602",
   "metadata": {},
   "outputs": [],
   "source": []
  }
 ],
 "metadata": {
  "kernelspec": {
   "display_name": "Python 3 (ipykernel)",
   "language": "python",
   "name": "python3"
  },
  "language_info": {
   "codemirror_mode": {
    "name": "ipython",
    "version": 3
   },
   "file_extension": ".py",
   "mimetype": "text/x-python",
   "name": "python",
   "nbconvert_exporter": "python",
   "pygments_lexer": "ipython3",
   "version": "3.10.1"
  }
 },
 "nbformat": 4,
 "nbformat_minor": 5
}
