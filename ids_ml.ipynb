{
 "cells": [
  {
   "cell_type": "code",
   "execution_count": 1,
   "id": "6c99b9be-b1a9-420d-853b-346764e75d06",
   "metadata": {},
   "outputs": [],
   "source": [
    "import matplotlib\n",
    "import matplotlib.pyplot as plt\n",
    "import numpy as np \n",
    "import pandas as pd\n",
    "import seaborn as sb\n",
    "import klib as kl\n",
    "import sklearn\n",
    "import imblearn"
   ]
  },
  {
   "cell_type": "code",
   "execution_count": 2,
   "id": "cc4923e6-7809-4938-ae98-59e89405fd06",
   "metadata": {},
   "outputs": [],
   "source": [
    "# CONFIGURING SETTINGS\n",
    "pd.set_option('display.max_columns', None)\n",
    "np.set_printoptions(precision=3)\n",
    "sb.set(style='darkgrid')\n",
    "plt.rcParams['axes.labelsize'] = 14\n",
    "plt.rcParams['xtick.labelsize'] = 12\n",
    "plt.rcParams['ytick.labelsize'] = 12"
   ]
  },
  {
   "cell_type": "code",
   "execution_count": 3,
   "id": "f3cc8f46-3835-4ea2-bb29-82117004844e",
   "metadata": {},
   "outputs": [],
   "source": [
    "# LOADING DATASETS\n",
    "data1 = pd.read_csv('datasets/Monday-WorkingHours.pcap_ISCX.csv')\n",
    "data2 = pd.read_csv('datasets/Tuesday-WorkingHours.pcap_ISCX.csv')\n",
    "data3 = pd.read_csv('datasets/Wednesday-WorkingHours.pcap_ISCX.csv')\n",
    "data4 = pd.read_csv('datasets/Thursday-WorkingHours-Morning-WebAttacks.pcap_ISCX.csv')\n",
    "data5 = pd.read_csv('datasets/Thursday-WorkingHours-Afternoon-Infiltration.pcap_ISCX.csv')\n",
    "data6 = pd.read_csv('datasets/Friday-WorkingHours-Morning.pcap_ISCX.csv')\n",
    "data7 = pd.read_csv('datasets/Friday-WorkingHours-Afternoon-PortScan.pcap_ISCX.csv')\n",
    "data8 = pd.read_csv('datasets/Friday-WorkingHours-Afternoon-DDos.pcap_ISCX.csv')"
   ]
  },
  {
   "cell_type": "code",
   "execution_count": null,
   "id": "f47647bc-8224-49d5-b079-ab8d0199ecc7",
   "metadata": {},
   "outputs": [],
   "source": []
  }
 ],
 "metadata": {
  "kernelspec": {
   "display_name": "Python 3 (ipykernel)",
   "language": "python",
   "name": "python3"
  },
  "language_info": {
   "codemirror_mode": {
    "name": "ipython",
    "version": 3
   },
   "file_extension": ".py",
   "mimetype": "text/x-python",
   "name": "python",
   "nbconvert_exporter": "python",
   "pygments_lexer": "ipython3",
   "version": "3.10.1"
  }
 },
 "nbformat": 4,
 "nbformat_minor": 5
}
